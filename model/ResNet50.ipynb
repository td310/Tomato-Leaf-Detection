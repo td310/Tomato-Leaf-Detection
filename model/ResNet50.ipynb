{
  "cells": [
    {
      "cell_type": "markdown",
      "metadata": {
        "id": "kAjTfPgSl7p8"
      },
      "source": [
        "**Train ResNet50**"
      ]
    },
    {
      "cell_type": "code",
      "execution_count": null,
      "metadata": {
        "id": "jTVfM2qNk-do"
      },
      "outputs": [],
      "source": [
        "import os\n",
        "import json\n",
        "import numpy as np\n",
        "import tensorflow as tf\n",
        "import matplotlib.pyplot as plt\n",
        "from tensorflow.keras.preprocessing.image import ImageDataGenerator\n",
        "from tensorflow.keras.applications import ResNet50\n",
        "from tensorflow.keras.layers import Dense, GlobalAveragePooling2D, Dropout\n",
        "from tensorflow.keras.models import Model\n",
        "from tensorflow.keras.optimizers import Adam\n",
        "from tensorflow.keras.callbacks import ModelCheckpoint, EarlyStopping, ReduceLROnPlateau"
      ]
    },
    {
      "cell_type": "code",
      "execution_count": null,
      "metadata": {
        "id": "qZSMuz_NlGLN"
      },
      "outputs": [],
      "source": [
        "# ======= PATH ========\n",
        "dataset_path = '/content/tomatoleaf/clean_tomato_dataset_td'\n",
        "train_dir = os.path.join(dataset_path, 'train')\n",
        "val_dir = os.path.join(dataset_path, 'val')\n",
        "\n",
        "save_dir = \"/content/drive/MyDrive/train_tomato/ResNet50-GradCAM(Ver2)\"\n",
        "os.makedirs(save_dir, exist_ok=True)"
      ]
    },
    {
      "cell_type": "code",
      "execution_count": null,
      "metadata": {
        "colab": {
          "base_uri": "https://localhost:8080/"
        },
        "id": "xfI_c-_ZlISE",
        "outputId": "8bb47ce6-896e-45c7-d236-112970c4b9e7"
      },
      "outputs": [
        {
          "name": "stdout",
          "output_type": "stream",
          "text": [
            "Found 2240 images belonging to 8 classes.\n",
            "Found 391 images belonging to 8 classes.\n"
          ]
        }
      ],
      "source": [
        "# ======= DATA AUGMENTATION ========\n",
        "train_datagen = ImageDataGenerator(\n",
        "    rescale=1./255,\n",
        "    rotation_range=25,\n",
        "    width_shift_range=0.2,\n",
        "    height_shift_range=0.2,\n",
        "    zoom_range=0.2,\n",
        "    horizontal_flip=True,\n",
        "    fill_mode='nearest'\n",
        ")\n",
        "\n",
        "val_datagen = ImageDataGenerator(rescale=1./255)\n",
        "\n",
        "batch_size = 32\n",
        "image_size = (224, 224)\n",
        "\n",
        "train_generator = train_datagen.flow_from_directory(\n",
        "    train_dir,\n",
        "    target_size=image_size,\n",
        "    batch_size=batch_size,\n",
        "    class_mode='categorical',\n",
        "    shuffle=True\n",
        ")\n",
        "\n",
        "val_generator = val_datagen.flow_from_directory(\n",
        "    val_dir,\n",
        "    target_size=image_size,\n",
        "    batch_size=batch_size,\n",
        "    class_mode='categorical',\n",
        "    shuffle=False\n",
        ")\n",
        "\n",
        "class_indices = train_generator.class_indices\n",
        "idx_to_class = {v: k for k, v in class_indices.items()}"
      ]
    },
    {
      "cell_type": "code",
      "execution_count": null,
      "metadata": {
        "colab": {
          "base_uri": "https://localhost:8080/"
        },
        "id": "hpybSymnlXee",
        "outputId": "bd3455ca-ce4c-4992-e8af-251e9dd4d5d5"
      },
      "outputs": [
        {
          "name": "stdout",
          "output_type": "stream",
          "text": [
            "Downloading data from https://storage.googleapis.com/tensorflow/keras-applications/resnet/resnet50_weights_tf_dim_ordering_tf_kernels_notop.h5\n",
            "\u001b[1m94765736/94765736\u001b[0m \u001b[32m━━━━━━━━━━━━━━━━━━━━\u001b[0m\u001b[37m\u001b[0m \u001b[1m0s\u001b[0m 0us/step\n"
          ]
        }
      ],
      "source": [
        "# ======= MODEL ========\n",
        "base_model = ResNet50(weights='imagenet', include_top=False, input_shape=(224, 224, 3))\n",
        "base_model.trainable = False\n",
        "\n",
        "x = base_model.output\n",
        "x = GlobalAveragePooling2D()(x)\n",
        "x = Dense(256, activation='relu')(x)\n",
        "x = Dropout(0.5)(x)\n",
        "predictions = Dense(len(class_indices), activation='softmax')(x)\n",
        "model = Model(inputs=base_model.input, outputs=predictions)\n",
        "model.compile(optimizer=Adam(1e-4), loss='categorical_crossentropy', metrics=['accuracy'])"
      ]
    },
    {
      "cell_type": "code",
      "execution_count": null,
      "metadata": {
        "id": "Vcz5ogtflbzn"
      },
      "outputs": [],
      "source": [
        "# ======= CALLBACKS ========\n",
        "checkpoint_path = os.path.join(save_dir, 'resnet50_best.weights.h5')\n",
        "model_path = os.path.join(save_dir, 'resnet50_final.keras')\n",
        "\n",
        "callbacks = [\n",
        "    ModelCheckpoint(checkpoint_path, save_weights_only=True, monitor='val_accuracy', save_best_only=True, verbose=1),\n",
        "    ReduceLROnPlateau(monitor='val_loss', factor=0.5, patience=2, verbose=1),\n",
        "    EarlyStopping(monitor='val_accuracy', patience=5, restore_best_weights=True, verbose=1)\n",
        "]"
      ]
    },
    {
      "cell_type": "code",
      "execution_count": null,
      "metadata": {
        "colab": {
          "base_uri": "https://localhost:8080/"
        },
        "id": "frrQjhAOlc4n",
        "outputId": "95347801-f8d8-43db-e4b3-742dadf3c068"
      },
      "outputs": [
        {
          "name": "stderr",
          "output_type": "stream",
          "text": [
            "/usr/local/lib/python3.11/dist-packages/keras/src/trainers/data_adapters/py_dataset_adapter.py:121: UserWarning: Your `PyDataset` class should call `super().__init__(**kwargs)` in its constructor. `**kwargs` can include `workers`, `use_multiprocessing`, `max_queue_size`. Do not pass these arguments to `fit()`, as they will be ignored.\n",
            "  self._warn_if_super_not_called()\n"
          ]
        },
        {
          "name": "stdout",
          "output_type": "stream",
          "text": [
            "Epoch 1/10\n",
            "\u001b[1m70/70\u001b[0m \u001b[32m━━━━━━━━━━━━━━━━━━━━\u001b[0m\u001b[37m\u001b[0m \u001b[1m0s\u001b[0m 406ms/step - accuracy: 0.1515 - loss: 2.3814\n",
            "Epoch 1: val_accuracy improved from -inf to 0.16113, saving model to /content/drive/MyDrive/train_tomato/ResNet50-GradCAM(Ver2)/resnet50_best.weights.h5\n",
            "\u001b[1m70/70\u001b[0m \u001b[32m━━━━━━━━━━━━━━━━━━━━\u001b[0m\u001b[37m\u001b[0m \u001b[1m52s\u001b[0m 537ms/step - accuracy: 0.1518 - loss: 2.3799 - val_accuracy: 0.1611 - val_loss: 2.0653 - learning_rate: 1.0000e-04\n",
            "Epoch 2/10\n",
            "\u001b[1m70/70\u001b[0m \u001b[32m━━━━━━━━━━━━━━━━━━━━\u001b[0m\u001b[37m\u001b[0m \u001b[1m0s\u001b[0m 416ms/step - accuracy: 0.1802 - loss: 2.1139\n",
            "Epoch 2: val_accuracy did not improve from 0.16113\n",
            "\u001b[1m70/70\u001b[0m \u001b[32m━━━━━━━━━━━━━━━━━━━━\u001b[0m\u001b[37m\u001b[0m \u001b[1m30s\u001b[0m 432ms/step - accuracy: 0.1803 - loss: 2.1137 - val_accuracy: 0.1611 - val_loss: 2.0317 - learning_rate: 1.0000e-04\n",
            "Epoch 3/10\n",
            "\u001b[1m70/70\u001b[0m \u001b[32m━━━━━━━━━━━━━━━━━━━━\u001b[0m\u001b[37m\u001b[0m \u001b[1m0s\u001b[0m 411ms/step - accuracy: 0.2209 - loss: 2.0228\n",
            "Epoch 3: val_accuracy did not improve from 0.16113\n",
            "\u001b[1m70/70\u001b[0m \u001b[32m━━━━━━━━━━━━━━━━━━━━\u001b[0m\u001b[37m\u001b[0m \u001b[1m30s\u001b[0m 427ms/step - accuracy: 0.2209 - loss: 2.0227 - val_accuracy: 0.1458 - val_loss: 2.0151 - learning_rate: 1.0000e-04\n",
            "Epoch 4/10\n",
            "\u001b[1m70/70\u001b[0m \u001b[32m━━━━━━━━━━━━━━━━━━━━\u001b[0m\u001b[37m\u001b[0m \u001b[1m0s\u001b[0m 427ms/step - accuracy: 0.2236 - loss: 2.0048\n",
            "Epoch 4: val_accuracy did not improve from 0.16113\n",
            "\u001b[1m70/70\u001b[0m \u001b[32m━━━━━━━━━━━━━━━━━━━━\u001b[0m\u001b[37m\u001b[0m \u001b[1m31s\u001b[0m 444ms/step - accuracy: 0.2236 - loss: 2.0046 - val_accuracy: 0.1611 - val_loss: 2.0293 - learning_rate: 1.0000e-04\n",
            "Epoch 5/10\n",
            "\u001b[1m70/70\u001b[0m \u001b[32m━━━━━━━━━━━━━━━━━━━━\u001b[0m\u001b[37m\u001b[0m \u001b[1m0s\u001b[0m 416ms/step - accuracy: 0.2360 - loss: 1.9714\n",
            "Epoch 5: val_accuracy improved from 0.16113 to 0.16880, saving model to /content/drive/MyDrive/train_tomato/ResNet50-GradCAM(Ver2)/resnet50_best.weights.h5\n",
            "\u001b[1m70/70\u001b[0m \u001b[32m━━━━━━━━━━━━━━━━━━━━\u001b[0m\u001b[37m\u001b[0m \u001b[1m32s\u001b[0m 460ms/step - accuracy: 0.2360 - loss: 1.9715 - val_accuracy: 0.1688 - val_loss: 1.9958 - learning_rate: 1.0000e-04\n",
            "Epoch 6/10\n",
            "\u001b[1m70/70\u001b[0m \u001b[32m━━━━━━━━━━━━━━━━━━━━\u001b[0m\u001b[37m\u001b[0m \u001b[1m0s\u001b[0m 430ms/step - accuracy: 0.2295 - loss: 1.9820\n",
            "Epoch 6: val_accuracy did not improve from 0.16880\n",
            "\u001b[1m70/70\u001b[0m \u001b[32m━━━━━━━━━━━━━━━━━━━━\u001b[0m\u001b[37m\u001b[0m \u001b[1m31s\u001b[0m 446ms/step - accuracy: 0.2296 - loss: 1.9818 - val_accuracy: 0.1688 - val_loss: 1.9923 - learning_rate: 1.0000e-04\n",
            "Epoch 7/10\n",
            "\u001b[1m70/70\u001b[0m \u001b[32m━━━━━━━━━━━━━━━━━━━━\u001b[0m\u001b[37m\u001b[0m \u001b[1m0s\u001b[0m 428ms/step - accuracy: 0.2587 - loss: 1.9385\n",
            "Epoch 7: val_accuracy did not improve from 0.16880\n",
            "\u001b[1m70/70\u001b[0m \u001b[32m━━━━━━━━━━━━━━━━━━━━\u001b[0m\u001b[37m\u001b[0m \u001b[1m31s\u001b[0m 446ms/step - accuracy: 0.2585 - loss: 1.9387 - val_accuracy: 0.1611 - val_loss: 1.9767 - learning_rate: 1.0000e-04\n",
            "Epoch 8/10\n",
            "\u001b[1m70/70\u001b[0m \u001b[32m━━━━━━━━━━━━━━━━━━━━\u001b[0m\u001b[37m\u001b[0m \u001b[1m0s\u001b[0m 417ms/step - accuracy: 0.2518 - loss: 1.9430\n",
            "Epoch 8: val_accuracy improved from 0.16880 to 0.17647, saving model to /content/drive/MyDrive/train_tomato/ResNet50-GradCAM(Ver2)/resnet50_best.weights.h5\n",
            "\u001b[1m70/70\u001b[0m \u001b[32m━━━━━━━━━━━━━━━━━━━━\u001b[0m\u001b[37m\u001b[0m \u001b[1m33s\u001b[0m 474ms/step - accuracy: 0.2518 - loss: 1.9430 - val_accuracy: 0.1765 - val_loss: 2.0014 - learning_rate: 1.0000e-04\n",
            "Epoch 9/10\n",
            "\u001b[1m70/70\u001b[0m \u001b[32m━━━━━━━━━━━━━━━━━━━━\u001b[0m\u001b[37m\u001b[0m \u001b[1m0s\u001b[0m 429ms/step - accuracy: 0.2650 - loss: 1.9250\n",
            "Epoch 9: val_accuracy did not improve from 0.17647\n",
            "\n",
            "Epoch 9: ReduceLROnPlateau reducing learning rate to 4.999999873689376e-05.\n",
            "\u001b[1m70/70\u001b[0m \u001b[32m━━━━━━━━━━━━━━━━━━━━\u001b[0m\u001b[37m\u001b[0m \u001b[1m31s\u001b[0m 445ms/step - accuracy: 0.2647 - loss: 1.9253 - val_accuracy: 0.1611 - val_loss: 1.9783 - learning_rate: 1.0000e-04\n",
            "Epoch 10/10\n",
            "\u001b[1m70/70\u001b[0m \u001b[32m━━━━━━━━━━━━━━━━━━━━\u001b[0m\u001b[37m\u001b[0m \u001b[1m0s\u001b[0m 424ms/step - accuracy: 0.2477 - loss: 1.9401\n",
            "Epoch 10: val_accuracy did not improve from 0.17647\n",
            "\u001b[1m70/70\u001b[0m \u001b[32m━━━━━━━━━━━━━━━━━━━━\u001b[0m\u001b[37m\u001b[0m \u001b[1m41s\u001b[0m 441ms/step - accuracy: 0.2477 - loss: 1.9399 - val_accuracy: 0.1739 - val_loss: 1.9715 - learning_rate: 5.0000e-05\n",
            "Restoring model weights from the end of the best epoch: 8.\n"
          ]
        }
      ],
      "source": [
        "# ======= TRAINING PHASE 1: Train top layers ========\n",
        "history = model.fit(\n",
        "    train_generator,\n",
        "    validation_data=val_generator,\n",
        "    epochs=10,\n",
        "    callbacks=callbacks\n",
        ")"
      ]
    },
    {
      "cell_type": "code",
      "execution_count": null,
      "metadata": {
        "colab": {
          "base_uri": "https://localhost:8080/"
        },
        "id": "fQsPdBC3lfiw",
        "outputId": "5001e16e-1ccf-4440-fd28-e418b98905c6"
      },
      "outputs": [
        {
          "name": "stdout",
          "output_type": "stream",
          "text": [
            "Epoch 1/25\n",
            "\u001b[1m70/70\u001b[0m \u001b[32m━━━━━━━━━━━━━━━━━━━━\u001b[0m\u001b[37m\u001b[0m \u001b[1m0s\u001b[0m 489ms/step - accuracy: 0.1908 - loss: 2.4118\n",
            "Epoch 1: val_accuracy did not improve from 0.17647\n",
            "\u001b[1m70/70\u001b[0m \u001b[32m━━━━━━━━━━━━━━━━━━━━\u001b[0m\u001b[37m\u001b[0m \u001b[1m101s\u001b[0m 600ms/step - accuracy: 0.1925 - loss: 2.4058 - val_accuracy: 0.1662 - val_loss: 2.3662 - learning_rate: 1.0000e-05\n",
            "Epoch 2/25\n",
            "\u001b[1m70/70\u001b[0m \u001b[32m━━━━━━━━━━━━━━━━━━━━\u001b[0m\u001b[37m\u001b[0m \u001b[1m0s\u001b[0m 496ms/step - accuracy: 0.6028 - loss: 1.2044\n",
            "Epoch 2: val_accuracy did not improve from 0.17647\n",
            "\u001b[1m70/70\u001b[0m \u001b[32m━━━━━━━━━━━━━━━━━━━━\u001b[0m\u001b[37m\u001b[0m \u001b[1m36s\u001b[0m 513ms/step - accuracy: 0.6034 - loss: 1.2029 - val_accuracy: 0.1662 - val_loss: 4.3587 - learning_rate: 1.0000e-05\n",
            "Epoch 3/25\n",
            "\u001b[1m70/70\u001b[0m \u001b[32m━━━━━━━━━━━━━━━━━━━━\u001b[0m\u001b[37m\u001b[0m \u001b[1m0s\u001b[0m 500ms/step - accuracy: 0.7563 - loss: 0.7645\n",
            "Epoch 3: val_accuracy did not improve from 0.17647\n",
            "\n",
            "Epoch 3: ReduceLROnPlateau reducing learning rate to 4.999999873689376e-06.\n",
            "\u001b[1m70/70\u001b[0m \u001b[32m━━━━━━━━━━━━━━━━━━━━\u001b[0m\u001b[37m\u001b[0m \u001b[1m41s\u001b[0m 518ms/step - accuracy: 0.7566 - loss: 0.7636 - val_accuracy: 0.1662 - val_loss: 6.4164 - learning_rate: 1.0000e-05\n",
            "Epoch 4/25\n",
            "\u001b[1m70/70\u001b[0m \u001b[32m━━━━━━━━━━━━━━━━━━━━\u001b[0m\u001b[37m\u001b[0m \u001b[1m0s\u001b[0m 491ms/step - accuracy: 0.8661 - loss: 0.4856\n",
            "Epoch 4: val_accuracy improved from 0.17647 to 0.19693, saving model to /content/drive/MyDrive/train_tomato/ResNet50-GradCAM(Ver2)/resnet50_best.weights.h5\n",
            "\u001b[1m70/70\u001b[0m \u001b[32m━━━━━━━━━━━━━━━━━━━━\u001b[0m\u001b[37m\u001b[0m \u001b[1m41s\u001b[0m 589ms/step - accuracy: 0.8660 - loss: 0.4856 - val_accuracy: 0.1969 - val_loss: 7.5309 - learning_rate: 5.0000e-06\n",
            "Epoch 5/25\n",
            "\u001b[1m70/70\u001b[0m \u001b[32m━━━━━━━━━━━━━━━━━━━━\u001b[0m\u001b[37m\u001b[0m \u001b[1m0s\u001b[0m 570ms/step - accuracy: 0.8942 - loss: 0.3713\n",
            "Epoch 5: val_accuracy did not improve from 0.19693\n",
            "\n",
            "Epoch 5: ReduceLROnPlateau reducing learning rate to 2.499999936844688e-06.\n",
            "\u001b[1m70/70\u001b[0m \u001b[32m━━━━━━━━━━━━━━━━━━━━\u001b[0m\u001b[37m\u001b[0m \u001b[1m41s\u001b[0m 586ms/step - accuracy: 0.8941 - loss: 0.3713 - val_accuracy: 0.1228 - val_loss: 7.4518 - learning_rate: 5.0000e-06\n",
            "Epoch 6/25\n",
            "\u001b[1m70/70\u001b[0m \u001b[32m━━━━━━━━━━━━━━━━━━━━\u001b[0m\u001b[37m\u001b[0m \u001b[1m0s\u001b[0m 493ms/step - accuracy: 0.8994 - loss: 0.3345\n",
            "Epoch 6: val_accuracy did not improve from 0.19693\n",
            "\u001b[1m70/70\u001b[0m \u001b[32m━━━━━━━━━━━━━━━━━━━━\u001b[0m\u001b[37m\u001b[0m \u001b[1m36s\u001b[0m 511ms/step - accuracy: 0.8994 - loss: 0.3344 - val_accuracy: 0.1662 - val_loss: 7.1342 - learning_rate: 2.5000e-06\n",
            "Epoch 7/25\n",
            "\u001b[1m70/70\u001b[0m \u001b[32m━━━━━━━━━━━━━━━━━━━━\u001b[0m\u001b[37m\u001b[0m \u001b[1m0s\u001b[0m 500ms/step - accuracy: 0.9264 - loss: 0.2863\n",
            "Epoch 7: val_accuracy improved from 0.19693 to 0.22762, saving model to /content/drive/MyDrive/train_tomato/ResNet50-GradCAM(Ver2)/resnet50_best.weights.h5\n",
            "\n",
            "Epoch 7: ReduceLROnPlateau reducing learning rate to 1.249999968422344e-06.\n",
            "\u001b[1m70/70\u001b[0m \u001b[32m━━━━━━━━━━━━━━━━━━━━\u001b[0m\u001b[37m\u001b[0m \u001b[1m44s\u001b[0m 629ms/step - accuracy: 0.9263 - loss: 0.2864 - val_accuracy: 0.2276 - val_loss: 6.4754 - learning_rate: 2.5000e-06\n",
            "Epoch 8/25\n",
            "\u001b[1m70/70\u001b[0m \u001b[32m━━━━━━━━━━━━━━━━━━━━\u001b[0m\u001b[37m\u001b[0m \u001b[1m0s\u001b[0m 554ms/step - accuracy: 0.9186 - loss: 0.2807\n",
            "Epoch 8: val_accuracy improved from 0.22762 to 0.27110, saving model to /content/drive/MyDrive/train_tomato/ResNet50-GradCAM(Ver2)/resnet50_best.weights.h5\n",
            "\u001b[1m70/70\u001b[0m \u001b[32m━━━━━━━━━━━━━━━━━━━━\u001b[0m\u001b[37m\u001b[0m \u001b[1m47s\u001b[0m 675ms/step - accuracy: 0.9187 - loss: 0.2807 - val_accuracy: 0.2711 - val_loss: 6.1154 - learning_rate: 1.2500e-06\n",
            "Epoch 9/25\n",
            "\u001b[1m70/70\u001b[0m \u001b[32m━━━━━━━━━━━━━━━━━━━━\u001b[0m\u001b[37m\u001b[0m \u001b[1m0s\u001b[0m 563ms/step - accuracy: 0.9354 - loss: 0.2310\n",
            "Epoch 9: val_accuracy improved from 0.27110 to 0.28389, saving model to /content/drive/MyDrive/train_tomato/ResNet50-GradCAM(Ver2)/resnet50_best.weights.h5\n",
            "\n",
            "Epoch 9: ReduceLROnPlateau reducing learning rate to 6.24999984211172e-07.\n",
            "\u001b[1m70/70\u001b[0m \u001b[32m━━━━━━━━━━━━━━━━━━━━\u001b[0m\u001b[37m\u001b[0m \u001b[1m49s\u001b[0m 701ms/step - accuracy: 0.9354 - loss: 0.2312 - val_accuracy: 0.2839 - val_loss: 5.6365 - learning_rate: 1.2500e-06\n",
            "Epoch 10/25\n",
            "\u001b[1m70/70\u001b[0m \u001b[32m━━━━━━━━━━━━━━━━━━━━\u001b[0m\u001b[37m\u001b[0m \u001b[1m0s\u001b[0m 561ms/step - accuracy: 0.9397 - loss: 0.2389\n",
            "Epoch 10: val_accuracy did not improve from 0.28389\n",
            "\u001b[1m70/70\u001b[0m \u001b[32m━━━━━━━━━━━━━━━━━━━━\u001b[0m\u001b[37m\u001b[0m \u001b[1m41s\u001b[0m 577ms/step - accuracy: 0.9396 - loss: 0.2391 - val_accuracy: 0.2788 - val_loss: 5.0914 - learning_rate: 6.2500e-07\n",
            "Epoch 11/25\n",
            "\u001b[1m70/70\u001b[0m \u001b[32m━━━━━━━━━━━━━━━━━━━━\u001b[0m\u001b[37m\u001b[0m \u001b[1m0s\u001b[0m 512ms/step - accuracy: 0.9337 - loss: 0.2376\n",
            "Epoch 11: val_accuracy did not improve from 0.28389\n",
            "\n",
            "Epoch 11: ReduceLROnPlateau reducing learning rate to 3.12499992105586e-07.\n",
            "\u001b[1m70/70\u001b[0m \u001b[32m━━━━━━━━━━━━━━━━━━━━\u001b[0m\u001b[37m\u001b[0m \u001b[1m37s\u001b[0m 529ms/step - accuracy: 0.9336 - loss: 0.2378 - val_accuracy: 0.2609 - val_loss: 4.3925 - learning_rate: 6.2500e-07\n",
            "Epoch 12/25\n",
            "\u001b[1m70/70\u001b[0m \u001b[32m━━━━━━━━━━━━━━━━━━━━\u001b[0m\u001b[37m\u001b[0m \u001b[1m0s\u001b[0m 499ms/step - accuracy: 0.9280 - loss: 0.2428\n",
            "Epoch 12: val_accuracy improved from 0.28389 to 0.34783, saving model to /content/drive/MyDrive/train_tomato/ResNet50-GradCAM(Ver2)/resnet50_best.weights.h5\n",
            "\u001b[1m70/70\u001b[0m \u001b[32m━━━━━━━━━━━━━━━━━━━━\u001b[0m\u001b[37m\u001b[0m \u001b[1m47s\u001b[0m 623ms/step - accuracy: 0.9282 - loss: 0.2426 - val_accuracy: 0.3478 - val_loss: 3.0954 - learning_rate: 3.1250e-07\n",
            "Epoch 13/25\n",
            "\u001b[1m70/70\u001b[0m \u001b[32m━━━━━━━━━━━━━━━━━━━━\u001b[0m\u001b[37m\u001b[0m \u001b[1m0s\u001b[0m 556ms/step - accuracy: 0.9302 - loss: 0.2368\n",
            "Epoch 13: val_accuracy improved from 0.34783 to 0.46803, saving model to /content/drive/MyDrive/train_tomato/ResNet50-GradCAM(Ver2)/resnet50_best.weights.h5\n",
            "\u001b[1m70/70\u001b[0m \u001b[32m━━━━━━━━━━━━━━━━━━━━\u001b[0m\u001b[37m\u001b[0m \u001b[1m49s\u001b[0m 700ms/step - accuracy: 0.9303 - loss: 0.2366 - val_accuracy: 0.4680 - val_loss: 2.0176 - learning_rate: 3.1250e-07\n",
            "Epoch 14/25\n",
            "\u001b[1m70/70\u001b[0m \u001b[32m━━━━━━━━━━━━━━━━━━━━\u001b[0m\u001b[37m\u001b[0m \u001b[1m0s\u001b[0m 556ms/step - accuracy: 0.9298 - loss: 0.2440\n",
            "Epoch 14: val_accuracy improved from 0.46803 to 0.60614, saving model to /content/drive/MyDrive/train_tomato/ResNet50-GradCAM(Ver2)/resnet50_best.weights.h5\n",
            "\u001b[1m70/70\u001b[0m \u001b[32m━━━━━━━━━━━━━━━━━━━━\u001b[0m\u001b[37m\u001b[0m \u001b[1m45s\u001b[0m 644ms/step - accuracy: 0.9299 - loss: 0.2438 - val_accuracy: 0.6061 - val_loss: 1.1857 - learning_rate: 3.1250e-07\n",
            "Epoch 15/25\n",
            "\u001b[1m70/70\u001b[0m \u001b[32m━━━━━━━━━━━━━━━━━━━━\u001b[0m\u001b[37m\u001b[0m \u001b[1m0s\u001b[0m 555ms/step - accuracy: 0.9409 - loss: 0.2337\n",
            "Epoch 15: val_accuracy improved from 0.60614 to 0.75192, saving model to /content/drive/MyDrive/train_tomato/ResNet50-GradCAM(Ver2)/resnet50_best.weights.h5\n",
            "\u001b[1m70/70\u001b[0m \u001b[32m━━━━━━━━━━━━━━━━━━━━\u001b[0m\u001b[37m\u001b[0m \u001b[1m47s\u001b[0m 673ms/step - accuracy: 0.9408 - loss: 0.2338 - val_accuracy: 0.7519 - val_loss: 0.6922 - learning_rate: 3.1250e-07\n",
            "Epoch 16/25\n",
            "\u001b[1m70/70\u001b[0m \u001b[32m━━━━━━━━━━━━━━━━━━━━\u001b[0m\u001b[37m\u001b[0m \u001b[1m0s\u001b[0m 549ms/step - accuracy: 0.9363 - loss: 0.2318\n",
            "Epoch 16: val_accuracy improved from 0.75192 to 0.84399, saving model to /content/drive/MyDrive/train_tomato/ResNet50-GradCAM(Ver2)/resnet50_best.weights.h5\n",
            "\u001b[1m70/70\u001b[0m \u001b[32m━━━━━━━━━━━━━━━━━━━━\u001b[0m\u001b[37m\u001b[0m \u001b[1m47s\u001b[0m 673ms/step - accuracy: 0.9364 - loss: 0.2316 - val_accuracy: 0.8440 - val_loss: 0.4449 - learning_rate: 3.1250e-07\n",
            "Epoch 17/25\n",
            "\u001b[1m70/70\u001b[0m \u001b[32m━━━━━━━━━━━━━━━━━━━━\u001b[0m\u001b[37m\u001b[0m \u001b[1m0s\u001b[0m 553ms/step - accuracy: 0.9376 - loss: 0.2415\n",
            "Epoch 17: val_accuracy improved from 0.84399 to 0.88235, saving model to /content/drive/MyDrive/train_tomato/ResNet50-GradCAM(Ver2)/resnet50_best.weights.h5\n",
            "\u001b[1m70/70\u001b[0m \u001b[32m━━━━━━━━━━━━━━━━━━━━\u001b[0m\u001b[37m\u001b[0m \u001b[1m49s\u001b[0m 703ms/step - accuracy: 0.9376 - loss: 0.2414 - val_accuracy: 0.8824 - val_loss: 0.3455 - learning_rate: 3.1250e-07\n",
            "Epoch 18/25\n",
            "\u001b[1m70/70\u001b[0m \u001b[32m━━━━━━━━━━━━━━━━━━━━\u001b[0m\u001b[37m\u001b[0m \u001b[1m0s\u001b[0m 548ms/step - accuracy: 0.9438 - loss: 0.2226\n",
            "Epoch 18: val_accuracy improved from 0.88235 to 0.90026, saving model to /content/drive/MyDrive/train_tomato/ResNet50-GradCAM(Ver2)/resnet50_best.weights.h5\n",
            "\u001b[1m70/70\u001b[0m \u001b[32m━━━━━━━━━━━━━━━━━━━━\u001b[0m\u001b[37m\u001b[0m \u001b[1m49s\u001b[0m 693ms/step - accuracy: 0.9437 - loss: 0.2228 - val_accuracy: 0.9003 - val_loss: 0.3007 - learning_rate: 3.1250e-07\n",
            "Epoch 19/25\n",
            "\u001b[1m70/70\u001b[0m \u001b[32m━━━━━━━━━━━━━━━━━━━━\u001b[0m\u001b[37m\u001b[0m \u001b[1m0s\u001b[0m 543ms/step - accuracy: 0.9443 - loss: 0.2065\n",
            "Epoch 19: val_accuracy improved from 0.90026 to 0.91049, saving model to /content/drive/MyDrive/train_tomato/ResNet50-GradCAM(Ver2)/resnet50_best.weights.h5\n",
            "\u001b[1m70/70\u001b[0m \u001b[32m━━━━━━━━━━━━━━━━━━━━\u001b[0m\u001b[37m\u001b[0m \u001b[1m48s\u001b[0m 685ms/step - accuracy: 0.9443 - loss: 0.2065 - val_accuracy: 0.9105 - val_loss: 0.2808 - learning_rate: 3.1250e-07\n",
            "Epoch 20/25\n",
            "\u001b[1m70/70\u001b[0m \u001b[32m━━━━━━━━━━━━━━━━━━━━\u001b[0m\u001b[37m\u001b[0m \u001b[1m0s\u001b[0m 564ms/step - accuracy: 0.9449 - loss: 0.2220\n",
            "Epoch 20: val_accuracy did not improve from 0.91049\n",
            "\u001b[1m70/70\u001b[0m \u001b[32m━━━━━━━━━━━━━━━━━━━━\u001b[0m\u001b[37m\u001b[0m \u001b[1m41s\u001b[0m 580ms/step - accuracy: 0.9449 - loss: 0.2220 - val_accuracy: 0.9105 - val_loss: 0.2701 - learning_rate: 3.1250e-07\n",
            "Epoch 21/25\n",
            "\u001b[1m70/70\u001b[0m \u001b[32m━━━━━━━━━━━━━━━━━━━━\u001b[0m\u001b[37m\u001b[0m \u001b[1m0s\u001b[0m 513ms/step - accuracy: 0.9520 - loss: 0.2076\n",
            "Epoch 21: val_accuracy improved from 0.91049 to 0.91304, saving model to /content/drive/MyDrive/train_tomato/ResNet50-GradCAM(Ver2)/resnet50_best.weights.h5\n",
            "\u001b[1m70/70\u001b[0m \u001b[32m━━━━━━━━━━━━━━━━━━━━\u001b[0m\u001b[37m\u001b[0m \u001b[1m44s\u001b[0m 631ms/step - accuracy: 0.9519 - loss: 0.2077 - val_accuracy: 0.9130 - val_loss: 0.2659 - learning_rate: 3.1250e-07\n",
            "Epoch 22/25\n",
            "\u001b[1m70/70\u001b[0m \u001b[32m━━━━━━━━━━━━━━━━━━━━\u001b[0m\u001b[37m\u001b[0m \u001b[1m0s\u001b[0m 561ms/step - accuracy: 0.9410 - loss: 0.2012\n",
            "Epoch 22: val_accuracy did not improve from 0.91304\n",
            "\u001b[1m70/70\u001b[0m \u001b[32m━━━━━━━━━━━━━━━━━━━━\u001b[0m\u001b[37m\u001b[0m \u001b[1m41s\u001b[0m 577ms/step - accuracy: 0.9410 - loss: 0.2014 - val_accuracy: 0.9130 - val_loss: 0.2627 - learning_rate: 3.1250e-07\n",
            "Epoch 23/25\n",
            "\u001b[1m70/70\u001b[0m \u001b[32m━━━━━━━━━━━━━━━━━━━━\u001b[0m\u001b[37m\u001b[0m \u001b[1m0s\u001b[0m 501ms/step - accuracy: 0.9561 - loss: 0.1838\n",
            "Epoch 23: val_accuracy did not improve from 0.91304\n",
            "\u001b[1m70/70\u001b[0m \u001b[32m━━━━━━━━━━━━━━━━━━━━\u001b[0m\u001b[37m\u001b[0m \u001b[1m37s\u001b[0m 517ms/step - accuracy: 0.9559 - loss: 0.1841 - val_accuracy: 0.9130 - val_loss: 0.2588 - learning_rate: 3.1250e-07\n",
            "Epoch 24/25\n",
            "\u001b[1m70/70\u001b[0m \u001b[32m━━━━━━━━━━━━━━━━━━━━\u001b[0m\u001b[37m\u001b[0m \u001b[1m0s\u001b[0m 502ms/step - accuracy: 0.9510 - loss: 0.1871\n",
            "Epoch 24: val_accuracy improved from 0.91304 to 0.91560, saving model to /content/drive/MyDrive/train_tomato/ResNet50-GradCAM(Ver2)/resnet50_best.weights.h5\n",
            "\u001b[1m70/70\u001b[0m \u001b[32m━━━━━━━━━━━━━━━━━━━━\u001b[0m\u001b[37m\u001b[0m \u001b[1m44s\u001b[0m 633ms/step - accuracy: 0.9510 - loss: 0.1871 - val_accuracy: 0.9156 - val_loss: 0.2577 - learning_rate: 3.1250e-07\n",
            "Epoch 25/25\n",
            "\u001b[1m70/70\u001b[0m \u001b[32m━━━━━━━━━━━━━━━━━━━━\u001b[0m\u001b[37m\u001b[0m \u001b[1m0s\u001b[0m 558ms/step - accuracy: 0.9562 - loss: 0.1797\n",
            "Epoch 25: val_accuracy improved from 0.91560 to 0.91816, saving model to /content/drive/MyDrive/train_tomato/ResNet50-GradCAM(Ver2)/resnet50_best.weights.h5\n",
            "\u001b[1m70/70\u001b[0m \u001b[32m━━━━━━━━━━━━━━━━━━━━\u001b[0m\u001b[37m\u001b[0m \u001b[1m49s\u001b[0m 697ms/step - accuracy: 0.9561 - loss: 0.1798 - val_accuracy: 0.9182 - val_loss: 0.2550 - learning_rate: 3.1250e-07\n",
            "Restoring model weights from the end of the best epoch: 25.\n"
          ]
        }
      ],
      "source": [
        "# ======= TRAINING PHASE 2: Unfreeze and Fine-Tune ========\n",
        "base_model.trainable = True\n",
        "model.compile(optimizer=Adam(1e-5), loss='categorical_crossentropy', metrics=['accuracy'])\n",
        "\n",
        "fine_tune_history = model.fit(\n",
        "    train_generator,\n",
        "    validation_data=val_generator,\n",
        "    epochs=25,\n",
        "    callbacks=callbacks\n",
        ")\n",
        "\n",
        "model.save(model_path)"
      ]
    },
    {
      "cell_type": "code",
      "execution_count": null,
      "metadata": {
        "colab": {
          "base_uri": "https://localhost:8080/",
          "height": 507
        },
        "id": "Es4AurdiVIAM",
        "outputId": "2fcee2dd-48b4-494e-c2b2-10a5157d3ff9"
      },
      "outputs": [
        {
          "data": {
            "image/png": "[encoded data removed]",
            "text/plain": [
              "<Figure size 1400x500 with 2 Axes>"
            ]
          },
          "metadata": {},
          "output_type": "display_data"
        }
      ],
      "source": [
        "# ======= Visualize Training ========\n",
        "def plot_training_history(history1, history2=None):\n",
        "    acc = history1.history['accuracy']\n",
        "    val_acc = history1.history['val_accuracy']\n",
        "    loss = history1.history['loss']\n",
        "    val_loss = history1.history['val_loss']\n",
        "\n",
        "    if history2:\n",
        "        acc += history2.history['accuracy']\n",
        "        val_acc += history2.history['val_accuracy']\n",
        "        loss += history2.history['loss']\n",
        "        val_loss += history2.history['val_loss']\n",
        "\n",
        "    epochs_range = range(len(acc))\n",
        "\n",
        "    plt.figure(figsize=(14, 5))\n",
        "\n",
        "    # Accuracy plot\n",
        "    plt.subplot(1, 2, 1)\n",
        "    plt.plot(epochs_range, acc, label='Training Accuracy')\n",
        "    plt.plot(epochs_range, val_acc, label='Validation Accuracy')\n",
        "    plt.legend(loc='lower right')\n",
        "    plt.title('Training and Validation Accuracy')\n",
        "\n",
        "    # Loss plot\n",
        "    plt.subplot(1, 2, 2)\n",
        "    plt.plot(epochs_range, loss, label='Training Loss')\n",
        "    plt.plot(epochs_range, val_loss, label='Validation Loss')\n",
        "    plt.legend(loc='upper right')\n",
        "    plt.title('Training and Validation Loss')\n",
        "\n",
        "    plt.tight_layout()\n",
        "    plt.show()\n",
        "\n",
        "plot_training_history(history, fine_tune_history)"
      ]
    },
    {
      "cell_type": "markdown",
      "metadata": {
        "id": "Vhqx9WBzlhVI"
      },
      "source": [
        "**Grad-CAM**\n",
        "\n"
      ]
    },
    {
      "cell_type": "code",
      "execution_count": null,
      "metadata": {
        "id": "8S6JK8R6mDF9"
      },
      "outputs": [],
      "source": [
        "# ======= Load Best Weights ========\n",
        "model.load_weights(os.path.join(save_dir, 'resnet50_best.weights.h5'))"
      ]
    },
    {
      "cell_type": "code",
      "execution_count": null,
      "metadata": {
        "id": "siOERKLTmFid"
      },
      "outputs": [],
      "source": [
        "# ======= Grad-CAM Function ========\n",
        "def make_gradcam_heatmap(img_array, model, last_conv_layer_name, pred_index=None):\n",
        "    grad_model = Model(\n",
        "        inputs=[model.inputs],\n",
        "        outputs=[model.get_layer(last_conv_layer_name).output, model.output]\n",
        "    )\n",
        "\n",
        "    with tf.GradientTape() as tape:\n",
        "        conv_outputs, predictions = grad_model(img_array)\n",
        "        if pred_index is None:\n",
        "            pred_index = tf.argmax(predictions[0])\n",
        "        class_channel = predictions[:, pred_index]\n",
        "\n",
        "    grads = tape.gradient(class_channel, conv_outputs)\n",
        "    pooled_grads = tf.reduce_mean(grads, axis=(0, 1, 2))\n",
        "\n",
        "    conv_outputs = conv_outputs[0]\n",
        "    heatmap = conv_outputs @ pooled_grads[..., tf.newaxis]\n",
        "    heatmap = tf.squeeze(heatmap)\n",
        "    heatmap = tf.maximum(heatmap, 0) / tf.math.reduce_max(heatmap)\n",
        "    return heatmap.numpy()"
      ]
    },
    {
      "cell_type": "code",
      "execution_count": null,
      "metadata": {
        "id": "t1c-BmhamIQ-"
      },
      "outputs": [],
      "source": [
        "# ======= Overlay Function ========\n",
        "def overlay_heatmap(img, heatmap, alpha=0.4, colormap=cv2.COLORMAP_JET):\n",
        "    img = cv2.cvtColor(np.array(img), cv2.COLOR_RGB2BGR)\n",
        "    heatmap = cv2.resize(heatmap, (img.shape[1], img.shape[0]))\n",
        "    heatmap = np.uint8(255 * heatmap)\n",
        "    heatmap_color = cv2.applyColorMap(heatmap, colormap)\n",
        "    superimposed_img = cv2.addWeighted(img, 1 - alpha, heatmap_color, alpha, 0)\n",
        "    return superimposed_img"
      ]
    },
    {
      "cell_type": "code",
      "execution_count": null,
      "metadata": {
        "id": "Rh3aCMFrmKve"
      },
      "outputs": [],
      "source": [
        "# ======= Parameters ========\n",
        "last_conv_layer_name = 'conv5_block3_out'\n",
        "image_size = (224, 224)"
      ]
    },
    {
      "cell_type": "code",
      "execution_count": null,
      "metadata": {
        "id": "Em2EgpUhmMQO"
      },
      "outputs": [],
      "source": [
        "# ======= Save Grad-CAM Results ========\n",
        "gradcam_dir = os.path.join(save_dir, 'gradcam_results')\n",
        "os.makedirs(gradcam_dir, exist_ok=True)"
      ]
    }
  ],
  "metadata": {
    "colab": {
      "provenance": []
    },
    "kernelspec": {
      "display_name": "Python 3",
      "name": "python3"
    },
    "language_info": {
      "name": "python"
    }
  },
  "nbformat": 4,
  "nbformat_minor": 0
}
